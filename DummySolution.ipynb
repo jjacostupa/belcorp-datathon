{
 "cells": [
  {
   "cell_type": "code",
   "execution_count": null,
   "metadata": {},
   "outputs": [],
   "source": [
    "import numpy as np\n",
    "import pandas as pd\n",
    "pd.set_option('display.max_columns',0)\n",
    "import matplotlib.pyplot as plt\n",
    "import seaborn as sns\n",
    "import os\n",
    "import warnings\n",
    "warnings.filterwarnings('ignore')\n",
    "import gc"
   ]
  },
  {
   "cell_type": "code",
   "execution_count": null,
   "metadata": {},
   "outputs": [],
   "source": [
    "prods = pd.read_csv('../data/maestro_producto.csv',index_col=0)\n",
    "cnslt = pd.read_csv('../data/maestro_consultora.csv',index_col=0)\n",
    "camps = pd.read_csv('../data/campana_consultora.csv',index_col=0).sort_values(by=['IdConsultora','campana']).reset_index(drop=True)\n",
    "hists = pd.read_csv('../data/dtt_fvta_cl.csv').sort_values(by=['idconsultora','campana']).reset_index(drop=True)\n",
    "submt = pd.read_csv('../data/predict_submission.csv')"
   ]
  },
  {
   "cell_type": "code",
   "execution_count": null,
   "metadata": {},
   "outputs": [],
   "source": [
    "def weighted_mean(x):\n",
    "    weights = np.flip([(1/(i+2)) for i in range(len(x))])\n",
    "    return np.average(x,weights=weights)"
   ]
  },
  {
   "cell_type": "code",
   "execution_count": null,
   "metadata": {
    "scrolled": true
   },
   "outputs": [],
   "source": [
    "# Simple weighted mean approach\n",
    "from sklearn.metrics import roc_auc_score\n",
    "\n",
    "lst = camps['IdConsultora'].isin(camps[camps['campana']<201906]['IdConsultora'])\n",
    "\n",
    "res = pd.merge(camps[(camps['campana']==201906)][['IdConsultora','Flagpasopedido']],\n",
    "         camps[(camps['campana']!=201906)].groupby('IdConsultora').agg({'Flagpasopedido':weighted_mean}).reset_index(),\n",
    "         on = 'IdConsultora', how = 'left').iloc[:,-1].fillna(1).values\n",
    "roc_auc_score(camps[camps['campana']==201906]['Flagpasopedido'].values, res)"
   ]
  },
  {
   "cell_type": "code",
   "execution_count": null,
   "metadata": {},
   "outputs": [],
   "source": [
    "from sklearn.metrics import roc_curve, auc\n",
    "fpr, tpr, threshold = roc_curve(camps[camps['campana']==201906]['Flagpasopedido'].values, res)\n",
    "roc_auc = auc(fpr, tpr)\n",
    "plt.title('Receiver Operating Characteristic')\n",
    "plt.plot(fpr, tpr, 'b', label = 'AUC = %0.2f' % roc_auc)\n",
    "plt.legend(loc = 'lower right')\n",
    "plt.plot([0, 1], [0, 1],'r--')\n",
    "plt.xlim([0, 1])\n",
    "plt.ylim([0, 1])\n",
    "plt.ylabel('True Positive Rate')\n",
    "plt.xlabel('False Positive Rate')\n",
    "plt.show()"
   ]
  },
  {
   "cell_type": "code",
   "execution_count": null,
   "metadata": {},
   "outputs": [],
   "source": [
    "submit = pd.merge(submt['idconsultora'],\n",
    "         camps.rename(columns={'IdConsultora':'idconsultora'}).groupby('idconsultora').agg({'Flagpasopedido':weighted_mean}).reset_index(),\n",
    "         on = 'idconsultora', how = 'left')"
   ]
  },
  {
   "cell_type": "code",
   "execution_count": null,
   "metadata": {},
   "outputs": [],
   "source": [
    "submit.head()"
   ]
  },
  {
   "cell_type": "code",
   "execution_count": null,
   "metadata": {},
   "outputs": [],
   "source": [
    "sns.distplot(submit['Flagpasopedido'])"
   ]
  },
  {
   "cell_type": "code",
   "execution_count": null,
   "metadata": {},
   "outputs": [],
   "source": [
    "submit.to_csv('../subs/submission.csv',index=None,encoding='utf-8',sep=',')\n"
   ]
  }
 ],
 "metadata": {
  "kernelspec": {
   "display_name": "Python 3",
   "language": "python",
   "name": "python3"
  },
  "language_info": {
   "codemirror_mode": {
    "name": "ipython",
    "version": 3
   },
   "file_extension": ".py",
   "mimetype": "text/x-python",
   "name": "python",
   "nbconvert_exporter": "python",
   "pygments_lexer": "ipython3",
   "version": "3.7.4"
  }
 },
 "nbformat": 4,
 "nbformat_minor": 2
}
